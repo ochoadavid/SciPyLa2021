{
 "cells": [
  {
   "cell_type": "markdown",
   "id": "25d858cb-8131-415b-8bc5-3308057ce11b",
   "metadata": {
    "slideshow": {
     "slide_type": "slide"
    },
    "tags": []
   },
   "source": [
    "![Titulo](Imagenes/Logo.png)\n",
    "# Uso de Python, Numpy y Sympy en la Docencia del Método de los Elementos Finitos"
   ]
  },
  {
   "cell_type": "markdown",
   "id": "d0ce9f55-f7b3-47cd-bd2a-ca1bf2ae57cc",
   "metadata": {
    "slideshow": {
     "slide_type": "slide"
    },
    "tags": []
   },
   "source": [
    "## Presentación"
   ]
  },
  {
   "cell_type": "markdown",
   "id": "f1c85b6b-6065-486a-9fa4-883ce0fe03bc",
   "metadata": {
    "slideshow": {
     "slide_type": "slide"
    },
    "tags": []
   },
   "source": [
    "En los últimos años he sido profesor de la materia de Elementos Finitos. \n",
    "Esta charla supone ser una recopilación de experiencias y lecciones aprendidas \n",
    "en el uso de Python y las librerías NumPy y SymPy en este curso. Consdiero que \n",
    "lo aprendido puede servir para la utilización de estas librerías en otros temas."
   ]
  },
  {
   "cell_type": "markdown",
   "id": "28b3a158-d32a-492d-9a35-7b7e3baf7f17",
   "metadata": {
    "slideshow": {
     "slide_type": "slide"
    },
    "tags": []
   },
   "source": [
    "Vale la pena decir que el utilizar estas liberías para enseñar el MEF es un reto\n",
    "doble, pues hay algunos estudiantes que no tienen mucha experiencia programando \n",
    "(aunque todos han tomado cursos usando Python). Sin embargo, la aplicación actual \n",
    "y eficiente del MEF implica necesariamente el uso de software."
   ]
  },
  {
   "cell_type": "markdown",
   "id": "4ed3371c-6706-427b-ae0f-02bb32f0422a",
   "metadata": {
    "slideshow": {
     "slide_type": "slide"
    },
    "tags": []
   },
   "source": [
    "## Introducción al Método de los Elementos Finitos"
   ]
  },
  {
   "cell_type": "markdown",
   "id": "a7ef530a-c6c0-45bd-bba6-75d38bdfccd0",
   "metadata": {
    "slideshow": {
     "slide_type": "fragment"
    },
    "tags": []
   },
   "source": [
    "El MEF es un método numérico que nos permite obtener una solución aproximada \n",
    "a una ecuación diferencial. Por ejemplo:\n",
    "\n",
    "$$-K \\frac {d^2 T} {dx^2} = Q $$\n",
    "\n",
    "Ecuación de transferencia de calor en sólidos (conducción). "
   ]
  },
  {
   "cell_type": "markdown",
   "id": "c33eb97e-45b0-4422-afab-614bd1e50aca",
   "metadata": {
    "slideshow": {
     "slide_type": "slide"
    },
    "tags": []
   },
   "source": [
    "Terminología y significado de las variables utilizadas:\n",
    "\n",
    "* $x$ y $y$ forman el sistema de coordenadas donde está definido el problema.\n",
    "* $L$ es la longitud de la barra (es decir, el **dominio** está definido de $x=0$ a $x=L$)\n",
    "* $T(x)$ es la **temperatura** de la barra. Su valor para cada parte del dominio es lo que queremos obtener.\n",
    "* $Q$ representa la **generación** de calor en la barra. Normalmente asociado a una unidad de volumen.\n",
    "* $K$ es la **constante de conductividad térmica**$^*$. Es una relación de cuanto se puede mover el calor (energía) dada una diferencia de temperatura. Su valor siempre es negativo, indicando que el calor siempre se mueve del punto más caliente a uno más frío.\n",
    "\n",
    "$^*$ No en todos los materiales/condiciones $K$ es constante. Se estudia este caso inicialmente para poder obtener una solución de manera sencilla."
   ]
  },
  {
   "cell_type": "markdown",
   "id": "0e74c45b-181e-4d8b-b471-50e2d5236ac6",
   "metadata": {
    "slideshow": {
     "slide_type": "slide"
    },
    "tags": []
   },
   "source": [
    "![Fig1](Imagenes/Fig1.png)"
   ]
  },
  {
   "cell_type": "markdown",
   "id": "eca66e9e-9a21-4c61-b6d7-c3f6249101a0",
   "metadata": {
    "slideshow": {
     "slide_type": "slide"
    },
    "tags": []
   },
   "source": [
    "__Condiciones de frontera__:\n",
    "\n",
    "Para poder conocer la solución de este sistema, es necesario saber que ocurre\n",
    "en los límites del dominio (en la frontera):\n",
    "\n",
    "$$ \\frac {d} {dx} T(x)\\Big{|}_{x=0} = - \\frac {q} {K} $$\n",
    "\n",
    "$$T(x)\\Big{|}_{x=L} = T_L$$"
   ]
  },
  {
   "cell_type": "markdown",
   "id": "745f303b-0645-4196-83cc-c14cf8cc3b47",
   "metadata": {
    "slideshow": {
     "slide_type": "slide"
    },
    "tags": []
   },
   "source": [
    "Terminología y significado de las variables utilizadas:\n",
    "\n",
    "* $q$ representa un **flujo con valor establecido** en la **frontera** de la barra ($x=0$), dato conocido.\n",
    "* $T_L$ representa __la temperatura__ en $x=L$, dato conocido.\n",
    "\n",
    "$^*$ No en todos los materiales/condiciones $K$ es constante. Se estudia este caso inicialmente para poder obtener una solución de manera sencilla."
   ]
  },
  {
   "cell_type": "markdown",
   "id": "c609ce36-3f37-450b-bf43-15c028013547",
   "metadata": {
    "slideshow": {
     "slide_type": "slide"
    },
    "tags": []
   },
   "source": [
    "El MEF inicia por __proponer__ una solución, del tipo:\n",
    "\n",
    "$$T(x) \\approx T_1 N_1 (x) + T_2 N_2 (x) + ... + T_{n+1} N_{n+1} (x) $$"
   ]
  },
  {
   "cell_type": "markdown",
   "id": "ea83d214-afbd-48c5-b4c7-057fb6c14087",
   "metadata": {
    "slideshow": {
     "slide_type": "fragment"
    },
    "tags": []
   },
   "source": [
    "$$T(x) \\approx \\sum_{i=0}^{n+1} T_i N_i (x) $$"
   ]
  },
  {
   "cell_type": "markdown",
   "id": "08fe531a-a463-4a02-b15b-6a9688836090",
   "metadata": {
    "slideshow": {
     "slide_type": "slide"
    },
    "tags": []
   },
   "source": [
    "Normalmente esto __no nos va permitir obtener una solución exacta__, por lo que tendremos que en nuestra ecuación diferencial original:\n",
    "\n",
    "$$-K \\frac {d^2 T} {dx^2} - Q \\neq 0$$\n",
    "\n",
    "Tendremos una diferencia o __residual__ ($R(T, x)$):\n",
    "\n",
    "$$R(T, x) = -K \\frac {d^2 T} {dx^2} - Q $$"
   ]
  },
  {
   "cell_type": "markdown",
   "id": "5290eb78-fac3-4576-8f64-93d798141846",
   "metadata": {
    "slideshow": {
     "slide_type": "slide"
    },
    "tags": []
   },
   "source": [
    "Como T no es la solución exacta, no podemos forzar el residual a desaparecer en todo punto $x$, sin importar que tan pequeña hagamos la malla. La idea de los _residuos ponderados_ es que podemos multiplicar los residuos por una \"ponderación\" (o peso) y forzar la ecuación a volverse cero. Es decir:\n",
    "\n",
    "$$\\int_0^L W(x)R(T, x)dx=0$$\n",
    "\n",
    "Donde $W(x)$ es una función de ponderación. Seleccionando funciones para $W(x)$ reemplazando las en esta ecuación podemos generar varios sistemas de ecuaciones dependientes de los parámetros $a_i$ que van a determinar una aproximación $T$ en la forma de sumas finitas. Esta solución va a satisfacer la ecuación diferencial en \"promedio\" o como una \"integral\". "
   ]
  },
  {
   "cell_type": "markdown",
   "id": "1ca389ab-e83e-45c8-af38-c501112ab5df",
   "metadata": {
    "slideshow": {
     "slide_type": "slide"
    },
    "tags": []
   },
   "source": [
    "El tipo de función seleccionada para $W(x)$, depende del tipo de técnica de residuales seleccionado. En el procedimiento de Galerkin, los pesos son establecidos como la misma función de peso $N(x)$, de tal manera que:\n",
    "\n",
    "$$W_i(x)=N_i(x)$$\n",
    "\n",
    "y\n",
    "\n",
    "\n",
    "$$\\int_0^L N(x)R(T, x)dx=0$$"
   ]
  },
  {
   "cell_type": "markdown",
   "id": "0cac5d9a-7b66-43bb-9795-a258216e4383",
   "metadata": {
    "slideshow": {
     "slide_type": "slide"
    },
    "tags": []
   },
   "source": [
    "Substituyendo el residual:\n",
    "\n",
    "\n",
    "$$\\int_0^L N(x)\\left[ -K \\frac {d^2 T} {dx^2} - Q \\right]dx=0$$"
   ]
  },
  {
   "cell_type": "markdown",
   "id": "474dd8cf-47e9-4e09-93f3-fbd5b63fa336",
   "metadata": {
    "slideshow": {
     "slide_type": "slide"
    },
    "tags": []
   },
   "source": [
    "![Fig2](Imagenes/Fig2.png)"
   ]
  },
  {
   "cell_type": "markdown",
   "id": "2e751751-d0fb-4910-810e-8892832937e6",
   "metadata": {
    "slideshow": {
     "slide_type": "slide"
    },
    "tags": []
   },
   "source": [
    "Usar funciones lineales para $N_i(x)$ parece una buena idea.. pero las funciones lineales:\n",
    "\n",
    "$$\\frac {d^2 N_i(x)T_i} {dx^2} = 0$$"
   ]
  },
  {
   "cell_type": "markdown",
   "id": "219341fc-8074-4b49-8d57-60b82eed4965",
   "metadata": {
    "slideshow": {
     "slide_type": "slide"
    },
    "tags": []
   },
   "source": [
    "Para poder resolver esta dificultad utilizamos la integración por partes para el primer termino de la suma, usando:\n",
    "\n",
    "$$ \\int u \\cdot dv = u \\cdot v - \\int v \\cdot du $$\n",
    "\n",
    "$$ u = N(x) $$\n",
    "\n",
    "$$ dv = \\frac {d^2 T} {dx^2} $$\n",
    "\n",
    "$$\\int_0^L N(x)\\left[ -K \\frac {d^2 T} {dx^2}  \\right]dx= - KN \\dfrac {dT}{dx}\\Big|_0^L + \\int_0^L K \\frac {dN}{dx} \\frac{dT}{dx} dx $$"
   ]
  },
  {
   "cell_type": "markdown",
   "id": "91ee6928-32d2-4fcf-8257-0c1f1c65db6b",
   "metadata": {
    "slideshow": {
     "slide_type": "slide"
    },
    "tags": []
   },
   "source": [
    "De manera que la ecuación queda:\n",
    "\n",
    "$$\\int_0^L K \\frac {dN}{dx} \\frac{dT}{dx} dx -\\int_0^L N(x)Q dx - KN\\dfrac {dT}{dx}\\Big|_0^L = 0$$\n",
    "\n",
    "Esto se conoce como la formulación _\"débil\"_ (_\"weak\"_ formulation) ya que la necesidad de la existencia de la segunda derivada se a \"relajado\": ya no es necesario que exista, ni que esté definida en todos los puntos."
   ]
  },
  {
   "cell_type": "markdown",
   "id": "41a14630-92a6-4313-aac8-592fb881946a",
   "metadata": {
    "slideshow": {
     "slide_type": "slide"
    },
    "tags": []
   },
   "source": [
    "Las $N_i$, usando funciones lineales, quedaría algo así:\n",
    "\n",
    "![Fig3](Imagenes/Fig3.png)"
   ]
  },
  {
   "cell_type": "markdown",
   "id": "519a3ea4-8ce5-46cf-bd56-818f4dd584fe",
   "metadata": {
    "slideshow": {
     "slide_type": "slide"
    },
    "tags": []
   },
   "source": [
    "El MEF aprovecha esta estructura __realizando la integración por elemento__ siendo que las funciones están definidas para cada elemento y las funciones solo interactuan dentro de los cada elemento:\n",
    "\n",
    "$$\\sum_{j=1}^{n+1}\\left[\\int_0^{h^{(e)}} K \\frac {dN_i}{dx} \\frac{dN_j}{dx}T_j dx -\\int_0^{h^{(e)}} N_i Q dx - KN_i \\dfrac {dT}{dx}\\Big|_{x_i}^{x_{i+1}} = 0\\right]$$\n",
    "\n",
    "Donde $h^{(e)}$ es el tamaño del elemento y $i = 1, 2, ..., n+1$. "
   ]
  },
  {
   "cell_type": "markdown",
   "id": "e1e1b574-1c41-41b8-8633-6402e40cf852",
   "metadata": {
    "slideshow": {
     "slide_type": "slide"
    },
    "tags": []
   },
   "source": [
    "Es común __modificar los límites de integración__ para no tener que definir las funciones de forma para cada elemento, siendo útiles definiciones como:\n",
    "\n",
    "$$N_1^{(e)} = 1-\\frac {x} {{h^{(e)}}}$$\n",
    "\n",
    "$$N_2^{(e)} = \\frac {x} {{h^{(e)}}}$$"
   ]
  },
  {
   "cell_type": "markdown",
   "id": "6b7dcdcb-790c-4d7e-b11f-9040bde060b3",
   "metadata": {
    "slideshow": {
     "slide_type": "slide"
    },
    "tags": []
   },
   "source": [
    "Esto permite que el comportamiento de los diferentes elementos se \"sumen\" en el proceso que se conoce como __ensamble__ de la matriz del sistema."
   ]
  },
  {
   "cell_type": "markdown",
   "id": "a53c1ac2-80c8-4b91-8394-a167585c0d3c",
   "metadata": {
    "slideshow": {
     "slide_type": "slide"
    },
    "tags": []
   },
   "source": [
    "## Uso de SymPy"
   ]
  },
  {
   "cell_type": "markdown",
   "id": "516c3d63-c0df-4d0a-a8d7-14e4cd8841bf",
   "metadata": {
    "slideshow": {
     "slide_type": "slide"
    },
    "tags": []
   },
   "source": [
    "> SymPy es una biblioteca de Python para matemáticas simbólicas. \n",
    "> Su propósito es llegar a ser un sistema de álgebra por computadora (CAS) \n",
    "> completo manteniendo el código tan simple como sea posible para poder ser \n",
    "> legible y extensible de manera fácil. SymPy está escrito en Python enteramente. \n",
    ">\n",
    "> -- <cite>https://www.sympy.org/en/index.html</cite>"
   ]
  },
  {
   "cell_type": "markdown",
   "id": "eead01ff-62c0-4252-bba2-9170ce1624ba",
   "metadata": {
    "slideshow": {
     "slide_type": "slide"
    },
    "tags": []
   },
   "source": [
    "¿Cómo me puede ayudar para obtener esta integral?\n",
    "\n",
    "$$\\int_0^{h_e} K \\frac {dN_i}{dx} \\frac{dN_j}{dx} dx$$"
   ]
  },
  {
   "cell_type": "code",
   "execution_count": 1,
   "id": "03957ef7-7a7a-4951-8c6d-f99bc2209078",
   "metadata": {
    "slideshow": {
     "slide_type": "slide"
    },
    "tags": []
   },
   "outputs": [],
   "source": [
    "# Aquí vamos!!\n",
    "import sympy as sp"
   ]
  },
  {
   "cell_type": "markdown",
   "id": "5d7f5547-2579-42c0-b8e7-007339e29f9e",
   "metadata": {
    "slideshow": {
     "slide_type": "slide"
    },
    "tags": []
   },
   "source": [
    "__SymPy__ se apoya en varias librerías para dar la mejor presentación. Si __miketex__ (disponible en anaconda) está instalado permite una representación basada en __LaTeX__ (https://www.latex-project.org/). Esta representación está disponible automáticamente en Jupyter, pero para poder aprovechar esta representación en otros sitemas (por ejemplo Spyder) es necesario importar:"
   ]
  },
  {
   "cell_type": "code",
   "execution_count": 2,
   "id": "ea159f66-c4f8-43ab-bd77-18459e6e83d6",
   "metadata": {
    "slideshow": {
     "slide_type": "slide"
    },
    "tags": []
   },
   "outputs": [],
   "source": [
    "from IPython.display import display as pp # pretty print"
   ]
  },
  {
   "cell_type": "markdown",
   "id": "ac5c014a-da85-4818-b1b4-2b1b8be7f0e8",
   "metadata": {
    "slideshow": {
     "slide_type": "slide"
    },
    "tags": []
   },
   "source": [
    "![Spyder](Imagenes/Spyder.png)"
   ]
  },
  {
   "cell_type": "markdown",
   "id": "f384c217-14b9-40da-8c2f-91bc54edd4e6",
   "metadata": {
    "slideshow": {
     "slide_type": "slide"
    },
    "tags": []
   },
   "source": [
    "El primer paso es declarar los simbolos que utilizaremos. SymPy reconoce automáticamente la escritura de simbolos de LaTeX:"
   ]
  },
  {
   "cell_type": "code",
   "execution_count": 3,
   "id": "55ea141c-66e2-4cff-a61f-27cdd0a67024",
   "metadata": {
    "slideshow": {
     "slide_type": "slide"
    },
    "tags": []
   },
   "outputs": [
    {
     "data": {
      "text/latex": [
       "$\\displaystyle x$"
      ],
      "text/plain": [
       "x"
      ]
     },
     "metadata": {},
     "output_type": "display_data"
    },
    {
     "data": {
      "text/latex": [
       "$\\displaystyle h^{(e)}$"
      ],
      "text/plain": [
       "h^{(e)}"
      ]
     },
     "metadata": {},
     "output_type": "display_data"
    }
   ],
   "source": [
    "x = sp.Symbol('x')\n",
    "he = sp.Symbol('h^{(e)}')\n",
    "pp(x, he)"
   ]
  },
  {
   "cell_type": "markdown",
   "id": "b21b2574-8998-45dc-852c-327ed9683e96",
   "metadata": {
    "slideshow": {
     "slide_type": "slide"
    },
    "tags": []
   },
   "source": [
    "__PARENTESIS__: Esto presenta lo que para mi es la __primera dificultad__ para explicar el uso de SymPy:\n",
    "* Los estudiantes deben de entender que lo que está a la __derecha__ es un símbolo algebraico, mientras que lo que está a la __izquierda__ es una variable de Python."
   ]
  },
  {
   "cell_type": "code",
   "execution_count": 4,
   "id": "d6fdf0a5-4c20-4074-b626-a9d566b6506b",
   "metadata": {
    "slideshow": {
     "slide_type": "fragment"
    },
    "tags": []
   },
   "outputs": [
    {
     "data": {
      "text/latex": [
       "$\\displaystyle x^{3}$"
      ],
      "text/plain": [
       "x**3"
      ]
     },
     "metadata": {},
     "output_type": "display_data"
    }
   ],
   "source": [
    "y = x ** 3 # Doble asterisco (**) es utilizado como potencia, x**3 = x³\n",
    "pp(y)"
   ]
  },
  {
   "cell_type": "markdown",
   "id": "b151e0c3-6dcb-4528-8ef4-e3221473b5cb",
   "metadata": {
    "slideshow": {
     "slide_type": "slide"
    },
    "tags": []
   },
   "source": [
    "![Fig3](Imagenes/TutSympy.png)"
   ]
  },
  {
   "cell_type": "markdown",
   "id": "5595d368-f749-47be-86d5-d2dcaa2b534b",
   "metadata": {
    "slideshow": {
     "slide_type": "fragment"
    },
    "tags": []
   },
   "source": [
    "(en realidad, las dos son __objetos__ de sympy...)"
   ]
  },
  {
   "cell_type": "markdown",
   "id": "7a364075-45b1-4c15-9419-78a274fbe126",
   "metadata": {
    "slideshow": {
     "slide_type": "slide"
    },
    "tags": []
   },
   "source": [
    "* Nada nos impide hacer cosas que pudieran no tener mucho sentido:"
   ]
  },
  {
   "cell_type": "code",
   "execution_count": 5,
   "id": "fefcc974-2a8d-40e4-b8c3-b7981ccec799",
   "metadata": {
    "slideshow": {
     "slide_type": "fragment"
    },
    "tags": []
   },
   "outputs": [
    {
     "data": {
      "text/latex": [
       "$\\displaystyle b$"
      ],
      "text/plain": [
       "b"
      ]
     },
     "metadata": {},
     "output_type": "display_data"
    },
    {
     "data": {
      "text/latex": [
       "$\\displaystyle a$"
      ],
      "text/plain": [
       "a"
      ]
     },
     "metadata": {},
     "output_type": "display_data"
    }
   ],
   "source": [
    "a = sp.Symbol('b')\n",
    "b = sp.Symbol('a')\n",
    "pp(a,b)"
   ]
  },
  {
   "cell_type": "markdown",
   "id": "088c348b-dfb0-4b3c-9901-7010fe07c684",
   "metadata": {
    "slideshow": {
     "slide_type": "fragment"
    },
    "tags": []
   },
   "source": [
    "Por lo que esta diferenciación es básica y debe quedar clara para que la utilización de la librería sea posible. \n",
    "\n",
    "__FIN PARENTESIS__"
   ]
  },
  {
   "cell_type": "markdown",
   "id": "edbaad01-272b-41fb-8e5a-afddc540f52e",
   "metadata": {
    "slideshow": {
     "slide_type": "slide"
    },
    "tags": []
   },
   "source": [
    "Declaramos las funciones de forma:"
   ]
  },
  {
   "cell_type": "code",
   "execution_count": 6,
   "id": "b0c8474e-d9fd-410e-b39a-298de3da2729",
   "metadata": {
    "slideshow": {
     "slide_type": "fragment"
    },
    "tags": []
   },
   "outputs": [
    {
     "data": {
      "text/latex": [
       "$\\displaystyle 1 - \\frac{x}{h^{(e)}}$"
      ],
      "text/plain": [
       "1 - x/h^{(e)}"
      ]
     },
     "metadata": {},
     "output_type": "display_data"
    },
    {
     "data": {
      "text/latex": [
       "$\\displaystyle \\frac{x}{h^{(e)}}$"
      ],
      "text/plain": [
       "x/h^{(e)}"
      ]
     },
     "metadata": {},
     "output_type": "display_data"
    }
   ],
   "source": [
    "N1 = 1-x/he\n",
    "\n",
    "N2 = x/he\n",
    "\n",
    "pp(N1, N2)"
   ]
  },
  {
   "cell_type": "code",
   "execution_count": 7,
   "id": "537dab18-9879-458b-a475-378a11e1da24",
   "metadata": {
    "slideshow": {
     "slide_type": "slide"
    },
    "tags": []
   },
   "outputs": [
    {
     "data": {
      "image/png": "[encoded data removed]",
      "text/plain": [
       "<Figure size 432x288 with 1 Axes>"
      ]
     },
     "metadata": {
      "needs_background": "light"
     },
     "output_type": "display_data"
    }
   ],
   "source": [
    "p1 = sp.plotting.plot(N1.subs(he,1), N2.subs(he,1), (x, 0, 1))"
   ]
  },
  {
   "cell_type": "markdown",
   "id": "27fe312b-d20c-4b2c-b618-658de3661575",
   "metadata": {
    "slideshow": {
     "slide_type": "slide"
    },
    "tags": []
   },
   "source": [
    "Las acomodamos en un vector:"
   ]
  },
  {
   "cell_type": "code",
   "execution_count": 8,
   "id": "356c66ed-61c8-4cb4-a0bb-13aca630fb6a",
   "metadata": {
    "slideshow": {
     "slide_type": "slide"
    },
    "tags": []
   },
   "outputs": [
    {
     "data": {
      "text/latex": [
       "$\\displaystyle \\left[\\begin{matrix}1 - \\frac{x}{h^{(e)}}\\\\\\frac{x}{h^{(e)}}\\end{matrix}\\right]$"
      ],
      "text/plain": [
       "Matrix([\n",
       "[1 - x/h^{(e)}],\n",
       "[    x/h^{(e)}]])"
      ]
     },
     "metadata": {},
     "output_type": "display_data"
    }
   ],
   "source": [
    "N = sp.Matrix([N1, N2])\n",
    "pp(N)"
   ]
  },
  {
   "cell_type": "markdown",
   "id": "7c09821e-957c-4ffb-8c73-ced08db176e0",
   "metadata": {
    "slideshow": {
     "slide_type": "slide"
    },
    "tags": []
   },
   "source": [
    "Las derivamos usando:\n",
    "\n",
    "$\\frac {d} {dx} F$ -> `sp.diff(F, x)`"
   ]
  },
  {
   "cell_type": "code",
   "execution_count": 9,
   "id": "4fb34a99-4cef-4ac9-a103-2edfd728113b",
   "metadata": {
    "slideshow": {
     "slide_type": "slide"
    },
    "tags": []
   },
   "outputs": [
    {
     "data": {
      "text/latex": [
       "$\\displaystyle \\left[\\begin{matrix}- \\frac{1}{h^{(e)}}\\\\\\frac{1}{h^{(e)}}\\end{matrix}\\right]$"
      ],
      "text/plain": [
       "Matrix([\n",
       "[-1/h^{(e)}],\n",
       "[ 1/h^{(e)}]])"
      ]
     },
     "metadata": {},
     "output_type": "display_data"
    }
   ],
   "source": [
    "dN = sp.diff(N, x)\n",
    "pp(dN)"
   ]
  },
  {
   "cell_type": "markdown",
   "id": "704ae3d7-a78c-4ab9-b8fb-9e9ee8595f6a",
   "metadata": {
    "slideshow": {
     "slide_type": "slide"
    },
    "tags": []
   },
   "source": [
    "La expresión:\n",
    "$$\\int_0^{h^{(e)}} K \\frac {dN_i}{dx} \\frac{dN_j}{dx} dx$$\n",
    "quedaría:\n",
    "$$ \\int_0^{h^{(e)}} K \\left[ \\frac {d}{dx}N \\right] ^T \\left[ \\frac {d}{dx}N \\right] dx $$"
   ]
  },
  {
   "cell_type": "markdown",
   "id": "6d6cafe8-2bab-4e06-b1a9-fb9c5f0b7c93",
   "metadata": {
    "slideshow": {
     "slide_type": "slide"
    },
    "tags": []
   },
   "source": [
    "Integramos usando:\n",
    "\n",
    "$\\int_a^b F dx$ -> `sp.integrate(F, (x,a,b))`"
   ]
  },
  {
   "cell_type": "code",
   "execution_count": 10,
   "id": "1d2990d3-fbb1-485c-8497-d20a05bc4485",
   "metadata": {
    "slideshow": {
     "slide_type": "slide"
    },
    "tags": []
   },
   "outputs": [
    {
     "data": {
      "text/latex": [
       "$\\displaystyle \\left[\\begin{matrix}\\frac{K}{h^{(e)}} & - \\frac{K}{h^{(e)}}\\\\- \\frac{K}{h^{(e)}} & \\frac{K}{h^{(e)}}\\end{matrix}\\right]$"
      ],
      "text/plain": [
       "Matrix([\n",
       "[ K/h^{(e)}, -K/h^{(e)}],\n",
       "[-K/h^{(e)},  K/h^{(e)}]])"
      ]
     },
     "metadata": {},
     "output_type": "display_data"
    }
   ],
   "source": [
    "K = sp.Symbol('K')\n",
    "\n",
    "MatrizK = sp.integrate(K*dN*dN.T, (x,0,he))\n",
    "pp(MatrizK)"
   ]
  },
  {
   "cell_type": "markdown",
   "id": "e9253ef0-9029-46b9-b8d7-82fa73929e53",
   "metadata": {
    "slideshow": {
     "slide_type": "slide"
    },
    "tags": []
   },
   "source": [
    "Que coincide con la expresión que se encuentra en la bibliografia:\n",
    "\n",
    "\n",
    "$$ \\frac {K} {h^{(e)}} \\begin{bmatrix} 1 & -1 \\\\ -1 & 1 \\end{bmatrix}$$"
   ]
  },
  {
   "cell_type": "markdown",
   "id": "77e6ad1e-fef2-4080-886d-209715d73133",
   "metadata": {
    "slideshow": {
     "slide_type": "slide"
    },
    "tags": []
   },
   "source": [
    "Esta solución puede parecer simple o poco interesante, pero la aplicación a funciones de forma cuadráticas empieza a demostrar su utilidad:"
   ]
  },
  {
   "cell_type": "code",
   "execution_count": 11,
   "id": "cfdadfa1-60b9-45c5-ac67-43afa79da854",
   "metadata": {
    "slideshow": {
     "slide_type": "slide"
    },
    "tags": []
   },
   "outputs": [
    {
     "data": {
      "text/latex": [
       "$\\displaystyle 1 - \\frac{3 x}{h^{(e)}} + \\frac{2 x^{2}}{\\left(h^{(e)}\\right)^{2}}$"
      ],
      "text/plain": [
       "1 - 3*x/h^{(e)} + 2*x**2/h^{(e)}**2"
      ]
     },
     "metadata": {},
     "output_type": "display_data"
    },
    {
     "data": {
      "text/latex": [
       "$\\displaystyle \\frac{4 x}{h^{(e)}} - \\frac{4 x^{2}}{\\left(h^{(e)}\\right)^{2}}$"
      ],
      "text/plain": [
       "4*x/h^{(e)} - 4*x**2/h^{(e)}**2"
      ]
     },
     "metadata": {},
     "output_type": "display_data"
    },
    {
     "data": {
      "text/latex": [
       "$\\displaystyle - \\frac{x}{h^{(e)}} + \\frac{2 x^{2}}{\\left(h^{(e)}\\right)^{2}}$"
      ],
      "text/plain": [
       "-x/h^{(e)} + 2*x**2/h^{(e)}**2"
      ]
     },
     "metadata": {},
     "output_type": "display_data"
    }
   ],
   "source": [
    "N1 = 1 - 3*x/he + 2*x**2/he**2\n",
    "N2 = 4*x/he - 4*x**2/he**2\n",
    "N3 = -1*x/he + 2*x**2/he**2\n",
    "\n",
    "pp(N1, N2, N3)"
   ]
  },
  {
   "cell_type": "code",
   "execution_count": 12,
   "id": "547672f3-2c12-4898-bafd-9dcab561b3f9",
   "metadata": {
    "slideshow": {
     "slide_type": "slide"
    },
    "tags": []
   },
   "outputs": [
    {
     "data": {
      "image/png": "[encoded data removed]",
      "text/plain": [
       "<Figure size 432x288 with 1 Axes>"
      ]
     },
     "metadata": {
      "needs_background": "light"
     },
     "output_type": "display_data"
    }
   ],
   "source": [
    "p1 = sp.plotting.plot(N1.subs(he,1), N2.subs(he,1), N3.subs(he,1), (x, 0, 1))"
   ]
  },
  {
   "cell_type": "code",
   "execution_count": 13,
   "id": "a6f68ab4-1c8e-4587-9b8b-644c348794d4",
   "metadata": {
    "slideshow": {
     "slide_type": "slide"
    },
    "tags": []
   },
   "outputs": [
    {
     "data": {
      "text/latex": [
       "$\\displaystyle \\left[\\begin{matrix}1 - \\frac{3 x}{h^{(e)}} + \\frac{2 x^{2}}{\\left(h^{(e)}\\right)^{2}}\\\\\\frac{4 x}{h^{(e)}} - \\frac{4 x^{2}}{\\left(h^{(e)}\\right)^{2}}\\\\- \\frac{x}{h^{(e)}} + \\frac{2 x^{2}}{\\left(h^{(e)}\\right)^{2}}\\end{matrix}\\right]$"
      ],
      "text/plain": [
       "Matrix([\n",
       "[1 - 3*x/h^{(e)} + 2*x**2/h^{(e)}**2],\n",
       "[    4*x/h^{(e)} - 4*x**2/h^{(e)}**2],\n",
       "[     -x/h^{(e)} + 2*x**2/h^{(e)}**2]])"
      ]
     },
     "metadata": {},
     "output_type": "display_data"
    }
   ],
   "source": [
    "N = sp.Matrix([N1, N2, N3])\n",
    "pp(N)"
   ]
  },
  {
   "cell_type": "code",
   "execution_count": 14,
   "id": "8e78c931-e857-4963-a2d7-7721622b3eb2",
   "metadata": {
    "slideshow": {
     "slide_type": "slide"
    },
    "tags": []
   },
   "outputs": [
    {
     "data": {
      "text/latex": [
       "$\\displaystyle \\left[\\begin{matrix}- \\frac{3}{h^{(e)}} + \\frac{4 x}{\\left(h^{(e)}\\right)^{2}}\\\\\\frac{4}{h^{(e)}} - \\frac{8 x}{\\left(h^{(e)}\\right)^{2}}\\\\- \\frac{1}{h^{(e)}} + \\frac{4 x}{\\left(h^{(e)}\\right)^{2}}\\end{matrix}\\right]$"
      ],
      "text/plain": [
       "Matrix([\n",
       "[-3/h^{(e)} + 4*x/h^{(e)}**2],\n",
       "[ 4/h^{(e)} - 8*x/h^{(e)}**2],\n",
       "[-1/h^{(e)} + 4*x/h^{(e)}**2]])"
      ]
     },
     "metadata": {},
     "output_type": "display_data"
    }
   ],
   "source": [
    "dN = sp.diff(N, x)\n",
    "pp(dN)"
   ]
  },
  {
   "cell_type": "markdown",
   "id": "f90293f0-9711-4d7e-9e18-37791bdd169b",
   "metadata": {
    "slideshow": {
     "slide_type": "slide"
    },
    "tags": []
   },
   "source": [
    "Nuevamente, la expresión:\n",
    "$$ \\int_0^{h^{(e)}} K \\left[ \\frac {d}{dx}N \\right] ^T \\left[ \\frac {d}{dx}N \\right] dx $$"
   ]
  },
  {
   "cell_type": "code",
   "execution_count": 15,
   "id": "f7064837-ac34-4f2a-af98-33fdad579e7a",
   "metadata": {
    "slideshow": {
     "slide_type": "slide"
    },
    "tags": []
   },
   "outputs": [
    {
     "data": {
      "text/latex": [
       "$\\displaystyle \\left[\\begin{matrix}\\frac{7 K}{3 h^{(e)}} & - \\frac{8 K}{3 h^{(e)}} & \\frac{K}{3 h^{(e)}}\\\\- \\frac{8 K}{3 h^{(e)}} & \\frac{16 K}{3 h^{(e)}} & - \\frac{8 K}{3 h^{(e)}}\\\\\\frac{K}{3 h^{(e)}} & - \\frac{8 K}{3 h^{(e)}} & \\frac{7 K}{3 h^{(e)}}\\end{matrix}\\right]$"
      ],
      "text/plain": [
       "Matrix([\n",
       "[ 7*K/(3*h^{(e)}), -8*K/(3*h^{(e)}),    K/(3*h^{(e)})],\n",
       "[-8*K/(3*h^{(e)}), 16*K/(3*h^{(e)}), -8*K/(3*h^{(e)})],\n",
       "[   K/(3*h^{(e)}), -8*K/(3*h^{(e)}),  7*K/(3*h^{(e)})]])"
      ]
     },
     "metadata": {},
     "output_type": "display_data"
    }
   ],
   "source": [
    "MatrizK = sp.integrate(K*dN*dN.T, (x,0,he))\n",
    "pp(MatrizK)"
   ]
  },
  {
   "cell_type": "markdown",
   "id": "c3b908ba-0319-4057-b60b-18a8a4f9927f",
   "metadata": {
    "slideshow": {
     "slide_type": "slide"
    },
    "tags": []
   },
   "source": [
    "La integral que contiene los términos de generación $Q$:\n",
    "\n",
    "$$\\int_0^{h^{(e)}} N_i Q dx $$"
   ]
  },
  {
   "cell_type": "code",
   "execution_count": 16,
   "id": "9565355e-ee71-424e-aa37-4e44871023c0",
   "metadata": {
    "slideshow": {
     "slide_type": "slide"
    },
    "tags": []
   },
   "outputs": [
    {
     "data": {
      "text/latex": [
       "$\\displaystyle \\left[\\begin{matrix}\\frac{Q h^{(e)}}{6}\\\\\\frac{2 Q h^{(e)}}{3}\\\\\\frac{Q h^{(e)}}{6}\\end{matrix}\\right]$"
      ],
      "text/plain": [
       "Matrix([\n",
       "[  Q*h^{(e)}/6],\n",
       "[2*Q*h^{(e)}/3],\n",
       "[  Q*h^{(e)}/6]])"
      ]
     },
     "metadata": {},
     "output_type": "display_data"
    }
   ],
   "source": [
    "Q = sp.Symbol('Q')\n",
    "\n",
    "VectorQ = sp.integrate(N*Q, (x,0,he))\n",
    "pp(VectorQ)"
   ]
  },
  {
   "cell_type": "markdown",
   "id": "3f70f8b9-96e2-43f3-91e5-6961e56d0c03",
   "metadata": {
    "slideshow": {
     "slide_type": "slide"
    },
    "tags": []
   },
   "source": [
    "La última parte representa, en realidad, el flujo en la frontera del elemento:\n",
    "\n",
    "$$KN_i \\dfrac {dT}{dx}\\Big|_{x_i}^{x_{i+1}} = \\begin{bmatrix}  K \\dfrac {dT}{dx}\\Big|_{x_i} \\\\ K \\dfrac {dT}{dx}\\Big|_{x_{i+1}}  \\end{bmatrix}$$"
   ]
  },
  {
   "cell_type": "markdown",
   "id": "2daa252a-77d2-45ca-b37b-c3b1ce6c638a",
   "metadata": {
    "slideshow": {
     "slide_type": "slide"
    },
    "tags": []
   },
   "source": [
    "Por lo que, para este problema, quedaría:"
   ]
  },
  {
   "cell_type": "code",
   "execution_count": 17,
   "id": "ed6497b1-86ab-4e3e-9942-8ea2dcec0a6a",
   "metadata": {
    "slideshow": {
     "slide_type": "fragment"
    },
    "tags": []
   },
   "outputs": [
    {
     "data": {
      "text/latex": [
       "$\\displaystyle \\left[\\begin{matrix}q_{1}\\\\0\\\\q_{3}\\end{matrix}\\right]$"
      ],
      "text/plain": [
       "Matrix([\n",
       "[q_1],\n",
       "[  0],\n",
       "[q_3]])"
      ]
     },
     "metadata": {},
     "output_type": "display_data"
    }
   ],
   "source": [
    "q1 = sp.Symbol('q_1')\n",
    "q3 = sp.Symbol('q_3')\n",
    "\n",
    "Vectorq = sp.Matrix([q1,0,q3])\n",
    "pp(Vectorq)"
   ]
  },
  {
   "cell_type": "markdown",
   "id": "98103211-5f2a-47f6-bb16-cfe8cfca12c3",
   "metadata": {
    "slideshow": {
     "slide_type": "slide"
    },
    "tags": []
   },
   "source": [
    "Así, la expresión integral, usando elementos cuadráticos se convierte en:\n",
    "\n",
    "$$\\begin{bmatrix}\\frac{7 K}{3 h^{(e)}} & - \\frac{8 K}{3 h^{(e)}} & \\frac{K}{3 h^{(e)}}\\\\- \\frac{8 K}{3 h^{(e)}} & \\frac{16 K}{3 h^{(e)}} & - \\frac{8 K}{3 h^{(e)}}\\\\\\frac{K}{3 h^{(e)}} & - \\frac{8 K}{3 h^{(e)}} & \\frac{7 K}{3 h^{(e)}}\\end{bmatrix}\\begin{bmatrix}T_1 \\\\ T_2 \\\\ T_3\\end{bmatrix} = \\begin{bmatrix}\\frac{Q h^{(e)}}{6} \\\\ \\frac{2 Q h^{(e)}}{3}\\\\\\frac{Q h^{(e)}}{6}\\end{bmatrix} + \\begin{bmatrix}q \\\\ 0\\\\0\\end{bmatrix}$$"
   ]
  },
  {
   "cell_type": "markdown",
   "id": "6cee5c8e-b3ae-4212-86ab-d2f53089224c",
   "metadata": {
    "slideshow": {
     "slide_type": "slide"
    },
    "tags": []
   },
   "source": [
    "Declaramos las incognitas como simbolos:"
   ]
  },
  {
   "cell_type": "code",
   "execution_count": 18,
   "id": "7efc85a6-2738-436b-80fe-f7d6964afd68",
   "metadata": {
    "slideshow": {
     "slide_type": "fragment"
    },
    "tags": []
   },
   "outputs": [],
   "source": [
    "T1, T2, T3 = sp.symbols('T_1, T_2, T_3')\n",
    "T = sp.Matrix([T1, T2, T3])"
   ]
  },
  {
   "cell_type": "code",
   "execution_count": 19,
   "id": "6a0a40f8-1901-4647-b5bf-7d7f4597bd49",
   "metadata": {
    "slideshow": {
     "slide_type": "slide"
    },
    "tags": []
   },
   "outputs": [
    {
     "data": {
      "text/latex": [
       "$\\displaystyle \\left[\\begin{matrix}\\frac{7 K T_{1}}{3 h^{(e)}} - \\frac{8 K T_{2}}{3 h^{(e)}} + \\frac{K T_{3}}{3 h^{(e)}} - \\frac{Q h^{(e)}}{6} - q_{1}\\\\- \\frac{8 K T_{1}}{3 h^{(e)}} + \\frac{16 K T_{2}}{3 h^{(e)}} - \\frac{8 K T_{3}}{3 h^{(e)}} - \\frac{2 Q h^{(e)}}{3}\\\\\\frac{K T_{1}}{3 h^{(e)}} - \\frac{8 K T_{2}}{3 h^{(e)}} + \\frac{7 K T_{3}}{3 h^{(e)}} - \\frac{Q h^{(e)}}{6} - q_{3}\\end{matrix}\\right]$"
      ],
      "text/plain": [
       "Matrix([\n",
       "[7*K*T_1/(3*h^{(e)}) - 8*K*T_2/(3*h^{(e)}) + K*T_3/(3*h^{(e)}) - Q*h^{(e)}/6 - q_1],\n",
       "[-8*K*T_1/(3*h^{(e)}) + 16*K*T_2/(3*h^{(e)}) - 8*K*T_3/(3*h^{(e)}) - 2*Q*h^{(e)}/3],\n",
       "[K*T_1/(3*h^{(e)}) - 8*K*T_2/(3*h^{(e)}) + 7*K*T_3/(3*h^{(e)}) - Q*h^{(e)}/6 - q_3]])"
      ]
     },
     "metadata": {},
     "output_type": "display_data"
    }
   ],
   "source": [
    "sistema = MatrizK * T - VectorQ - Vectorq\n",
    "pp(sistema)"
   ]
  },
  {
   "cell_type": "markdown",
   "id": "7a5235e7-efed-4834-9345-30a90d0d539f",
   "metadata": {
    "slideshow": {
     "slide_type": "slide"
    },
    "tags": []
   },
   "source": [
    "Substituimos los valores para este caso en particular:"
   ]
  },
  {
   "cell_type": "code",
   "execution_count": 20,
   "id": "29c6768d-1481-4d2b-80cb-6fcb9c49c4d9",
   "metadata": {
    "slideshow": {
     "slide_type": "fragment"
    },
    "tags": []
   },
   "outputs": [
    {
     "data": {
      "text/latex": [
       "$\\displaystyle \\left[\\begin{matrix}\\frac{7 K T_{1}}{3 L} - \\frac{8 K T_{2}}{3 L} + \\frac{K T_{L}}{3 L} - \\frac{L Q}{6} - q_{1}\\\\- \\frac{8 K T_{1}}{3 L} + \\frac{16 K T_{2}}{3 L} - \\frac{8 K T_{L}}{3 L} - \\frac{2 L Q}{3}\\\\\\frac{K T_{1}}{3 L} - \\frac{8 K T_{2}}{3 L} + \\frac{7 K T_{L}}{3 L} - \\frac{L Q}{6} - q_{3}\\end{matrix}\\right]$"
      ],
      "text/plain": [
       "Matrix([\n",
       "[7*K*T_1/(3*L) - 8*K*T_2/(3*L) + K*T_L/(3*L) - L*Q/6 - q_1],\n",
       "[-8*K*T_1/(3*L) + 16*K*T_2/(3*L) - 8*K*T_L/(3*L) - 2*L*Q/3],\n",
       "[K*T_1/(3*L) - 8*K*T_2/(3*L) + 7*K*T_L/(3*L) - L*Q/6 - q_3]])"
      ]
     },
     "metadata": {},
     "output_type": "display_data"
    }
   ],
   "source": [
    "L, TL = sp.symbols('L, T_L')\n",
    "\n",
    "sistema = sistema.subs(he, L).subs(T3,TL)\n",
    "pp(sistema)"
   ]
  },
  {
   "cell_type": "markdown",
   "id": "4050e454-f6d5-47e9-8995-47fab0b57248",
   "metadata": {
    "slideshow": {
     "slide_type": "slide"
    },
    "tags": []
   },
   "source": [
    "Y resolvemos algebraicamente:"
   ]
  },
  {
   "cell_type": "code",
   "execution_count": 21,
   "id": "c0c207bd-d44a-437c-b14e-c0df752fbd96",
   "metadata": {
    "slideshow": {
     "slide_type": "fragment"
    },
    "tags": []
   },
   "outputs": [
    {
     "data": {
      "text/plain": [
       "{T_1: (2*K*T_L + L**2*Q + 2*L*q_1)/(2*K),\n",
       " T_2: (8*K*T_L + 3*L**2*Q + 4*L*q_1)/(8*K),\n",
       " q_3: -L*Q - q_1}"
      ]
     },
     "metadata": {},
     "output_type": "display_data"
    }
   ],
   "source": [
    "solucion = sp.solve(sistema, (T1,T2,q3))\n",
    "pp(solucion)"
   ]
  },
  {
   "cell_type": "code",
   "execution_count": 22,
   "id": "27727d11-e7fe-4c26-aaa5-8224d8f48b08",
   "metadata": {
    "slideshow": {
     "slide_type": "slide"
    },
    "tags": []
   },
   "outputs": [
    {
     "data": {
      "text/latex": [
       "$\\displaystyle \\frac{2 K T_{L} + L^{2} Q + 2 L q_{1}}{2 K}$"
      ],
      "text/plain": [
       "(2*K*T_L + L**2*Q + 2*L*q_1)/(2*K)"
      ]
     },
     "metadata": {},
     "output_type": "display_data"
    },
    {
     "data": {
      "text/latex": [
       "$\\displaystyle \\frac{8 K T_{L} + 3 L^{2} Q + 4 L q_{1}}{8 K}$"
      ],
      "text/plain": [
       "(8*K*T_L + 3*L**2*Q + 4*L*q_1)/(8*K)"
      ]
     },
     "metadata": {},
     "output_type": "display_data"
    },
    {
     "data": {
      "text/latex": [
       "$\\displaystyle - L Q - q_{1}$"
      ],
      "text/plain": [
       "-L*Q - q_1"
      ]
     },
     "metadata": {},
     "output_type": "display_data"
    }
   ],
   "source": [
    "pp(solucion[T1],solucion[T2],solucion[q3])"
   ]
  },
  {
   "cell_type": "markdown",
   "id": "5c1777a2-d4db-4374-b640-bafab206564f",
   "metadata": {
    "slideshow": {
     "slide_type": "slide"
    },
    "tags": []
   },
   "source": [
    "La solución analítica de este problema es:\n",
    "\n",
    "$$ T(x) = T_L + \\frac {Q}{2K} (L^2 - x^2) + \\frac {q_1}{K}(L-x) $$"
   ]
  },
  {
   "cell_type": "code",
   "execution_count": 23,
   "id": "206d4c76-7602-46b7-b12f-3fbdc00adc73",
   "metadata": {
    "slideshow": {
     "slide_type": "slide"
    },
    "tags": []
   },
   "outputs": [
    {
     "data": {
      "text/latex": [
       "$\\displaystyle T_{L} + \\frac{Q \\left(L^{2} - x^{2}\\right)}{2 K} + \\frac{q_{1} \\left(L - x\\right)}{K}$"
      ],
      "text/plain": [
       "T_L + Q*(L**2 - x**2)/(2*K) + q_1*(L - x)/K"
      ]
     },
     "metadata": {},
     "output_type": "display_data"
    }
   ],
   "source": [
    "solucion_analitica = TL + Q/(2*K) *(L**2 - x**2) + q1/K*(L-x)\n",
    "pp(solucion_analitica)"
   ]
  },
  {
   "cell_type": "markdown",
   "id": "dc1e5d01-05ee-4772-8c16-4a0281570847",
   "metadata": {
    "slideshow": {
     "slide_type": "slide"
    },
    "tags": []
   },
   "source": [
    "Substituyendo $x=0$ y $x=L/2$:"
   ]
  },
  {
   "cell_type": "code",
   "execution_count": 24,
   "id": "8ab098e6-9762-4582-af2e-b00a0e38f2da",
   "metadata": {
    "slideshow": {
     "slide_type": "slide"
    },
    "tags": []
   },
   "outputs": [
    {
     "data": {
      "text/latex": [
       "$\\displaystyle T_{L} + \\frac{L^{2} Q}{2 K} + \\frac{L q_{1}}{K}$"
      ],
      "text/plain": [
       "T_L + L**2*Q/(2*K) + L*q_1/K"
      ]
     },
     "execution_count": 24,
     "metadata": {},
     "output_type": "execute_result"
    }
   ],
   "source": [
    "solucion_analitica.subs(x,0)"
   ]
  },
  {
   "cell_type": "code",
   "execution_count": 25,
   "id": "1c8adf69-64ca-46ac-a885-10a720636bee",
   "metadata": {
    "slideshow": {
     "slide_type": "fragment"
    },
    "tags": []
   },
   "outputs": [
    {
     "data": {
      "text/latex": [
       "$\\displaystyle T_{L} + \\frac{3 L^{2} Q}{8 K} + \\frac{L q_{1}}{2 K}$"
      ],
      "text/plain": [
       "T_L + 3*L**2*Q/(8*K) + L*q_1/(2*K)"
      ]
     },
     "execution_count": 25,
     "metadata": {},
     "output_type": "execute_result"
    }
   ],
   "source": [
    "solucion_analitica.subs(x,L/2)"
   ]
  },
  {
   "cell_type": "code",
   "execution_count": 26,
   "id": "a02b211c-d727-4ab9-8867-f00aacd94572",
   "metadata": {
    "slideshow": {
     "slide_type": "fragment"
    },
    "tags": []
   },
   "outputs": [
    {
     "data": {
      "text/latex": [
       "$\\displaystyle \\frac{2 K T_{L} + L^{2} Q + 2 L q_{1}}{2 K}$"
      ],
      "text/plain": [
       "(2*K*T_L + L**2*Q + 2*L*q_1)/(2*K)"
      ]
     },
     "metadata": {},
     "output_type": "display_data"
    },
    {
     "data": {
      "text/latex": [
       "$\\displaystyle \\frac{8 K T_{L} + 3 L^{2} Q + 4 L q_{1}}{8 K}$"
      ],
      "text/plain": [
       "(8*K*T_L + 3*L**2*Q + 4*L*q_1)/(8*K)"
      ]
     },
     "metadata": {},
     "output_type": "display_data"
    }
   ],
   "source": [
    "pp(solucion[T1],solucion[T2])"
   ]
  },
  {
   "cell_type": "markdown",
   "id": "2ab25694-5568-4b66-8521-eda77430dbe8",
   "metadata": {
    "slideshow": {
     "slide_type": "slide"
    },
    "tags": []
   },
   "source": [
    "## Uso de NumPy:"
   ]
  },
  {
   "cell_type": "markdown",
   "id": "e7e93bf6-2cfb-4ff3-adbc-9ab07fb28122",
   "metadata": {
    "slideshow": {
     "slide_type": "slide"
    },
    "tags": []
   },
   "source": [
    "> NumPy is the fundamental package for scientific computing in Python. \n",
    "> It is a Python library that provides a multidimensional array object, \n",
    "> various derived objects (such as masked arrays and matrices), and an \n",
    "> assortment of routines for fast operations on arrays, including \n",
    "> mathematical, logical, shape manipulation, sorting, selecting, \n",
    "> I/O, discrete Fourier transforms, basic linear algebra, basic \n",
    "> statistical operations, random simulation and much more..\n",
    ">\n",
    "> -- <cite>https://numpy.org/doc/stable/user/whatisnumpy.html</cite>"
   ]
  },
  {
   "cell_type": "code",
   "execution_count": 27,
   "id": "03248cb6-842d-44ea-821e-d914ea42ac6a",
   "metadata": {
    "slideshow": {
     "slide_type": "slide"
    },
    "tags": []
   },
   "outputs": [],
   "source": [
    "import numpy as np\n",
    "import matplotlib.pyplot as plt\n",
    "plt.style.use('ggplot')"
   ]
  },
  {
   "cell_type": "markdown",
   "id": "44ea8f8d-9a55-428d-98ad-63d55370d39b",
   "metadata": {
    "slideshow": {
     "slide_type": "slide"
    },
    "tags": []
   },
   "source": [
    "__NumPy__ es la librería ideal para resolver los problemas de forma numérica, es decir, para usar el MEF con todo su potencial. Sin embargo su utilización también presenta algunos retos para los alumnos que no son expertos en programación. "
   ]
  },
  {
   "cell_type": "markdown",
   "id": "334086a9-da73-40d1-a49b-b23c793f9519",
   "metadata": {
    "slideshow": {
     "slide_type": "slide"
    },
    "tags": []
   },
   "source": [
    "Resolveremos, a manera de ejmplo, el ejercicio anterior, pero ahora utilizando elementos triangulares (dominio 2D, plano) con los siguientes datos:"
   ]
  },
  {
   "cell_type": "code",
   "execution_count": 28,
   "id": "52882b9f-d3d0-4ac7-9199-78a6b039cf53",
   "metadata": {
    "slideshow": {
     "slide_type": "fragment"
    },
    "tags": []
   },
   "outputs": [],
   "source": [
    "L = 3 # m\n",
    "k = 50 # W/m°C\n",
    "q = 25 # W/m²\n",
    "Q = 40 # W/m³\n",
    "TL = 300 # °C"
   ]
  },
  {
   "cell_type": "markdown",
   "id": "2245c38e-dc1d-4dec-9a97-950e9526a872",
   "metadata": {
    "slideshow": {
     "slide_type": "fragment"
    },
    "tags": []
   },
   "source": [
    "Substituyendo estos valores en la solución anterior se obtiene:\n",
    "\n",
    "$$T_1 = 305.10 \\,^oC$$\n",
    "$$T_2 = 303.45 \\,^oC$$\n",
    "$$T_3 = T_L = 300.00 \\,^oC$$"
   ]
  },
  {
   "cell_type": "markdown",
   "id": "8e446f8a-e0ca-41db-b4c6-33b7b7910d3d",
   "metadata": {
    "slideshow": {
     "slide_type": "slide"
    },
    "tags": []
   },
   "source": [
    "Al no exigirles el uso de una herramienta en específico los alumnos, usando una\n",
    "hoja de cálculo, hacen esto:\n",
    "![hoja](Imagenes/HojaCalculo.png)"
   ]
  },
  {
   "cell_type": "markdown",
   "id": "03fa872b-bf93-4782-a8f7-59916a5069fc",
   "metadata": {
    "slideshow": {
     "slide_type": "slide"
    },
    "tags": []
   },
   "source": [
    "__Eureka__: tenemos un diccionario. \n",
    "\n",
    "La propuesta es, entonces, trabajar con una\n",
    "__lista de diccionarios__, donde cada diccionario es un elemento."
   ]
  },
  {
   "cell_type": "code",
   "execution_count": 29,
   "id": "341cb474-16f1-46fb-9698-964b1534f4e1",
   "metadata": {
    "slideshow": {
     "slide_type": "slide"
    },
    "tags": []
   },
   "outputs": [],
   "source": [
    "elementos = []\n",
    "elementos.append({'x': np.array([0. , 0. , L/2]),\n",
    "                  'y': np.array([0. , L/2, 0. ]),\n",
    "                  'n': [0, 3, 1]})\n",
    "elementos.append({'x': np.array([0. , L/2, L/2]),\n",
    "                  'y': np.array([L/2, L/2, 0. ]),\n",
    "                  'n': [3, 4, 1]})\n",
    "elementos.append({'x': np.array([L/2, L/2, L  ]),\n",
    "                  'y': np.array([0. , L/2, 0. ]),\n",
    "                  'n': [1, 4, 2]})\n",
    "elementos.append({'x': np.array([L/2, L  , L  ]),\n",
    "                  'y': np.array([L/2, L/2, 0. ]),\n",
    "                  'n': [4, 5, 2]})\n",
    "elementos.append({'x': np.array([0. , 0. , L/2]),\n",
    "                  'y': np.array([L/2, L  , L  ]),\n",
    "                  'n': [3, 6, 7]})\n",
    "elementos.append({'x': np.array([0. , L/2, L/2]),\n",
    "                  'y': np.array([L/2, L  , L/2]),\n",
    "                  'n': [3, 7, 4]})\n",
    "elementos.append({'x': np.array([L/2, L/2, L  ]),\n",
    "                  'y': np.array([L/2, L  , L  ]),\n",
    "                  'n': [4, 7, 8]})\n",
    "elementos.append({'x': np.array([L/2, L  , L  ]),\n",
    "                  'y': np.array([L/2, L  , L/2]),\n",
    "                  'n': [4, 8, 5]})"
   ]
  },
  {
   "cell_type": "markdown",
   "id": "39f607fd-9830-41f2-b8f9-298a54a672a9",
   "metadata": {
    "slideshow": {
     "slide_type": "slide"
    },
    "tags": []
   },
   "source": [
    "Una representación gráfica ayuda para entender mejor lo anterior:"
   ]
  },
  {
   "cell_type": "code",
   "execution_count": 30,
   "id": "b5dcc34a-66ec-4c5b-92cd-e405bae21b1a",
   "metadata": {
    "slideshow": {
     "slide_type": "slide"
    },
    "tags": []
   },
   "outputs": [
    {
     "data": {
      "image/png": "[encoded data removed]",
      "text/plain": [
       "<Figure size 360x360 with 1 Axes>"
      ]
     },
     "metadata": {},
     "output_type": "display_data"
    }
   ],
   "source": [
    "plt.figure(figsize=(5,5))\n",
    "for i, e in enumerate(elementos):\n",
    "    plt.fill(e['x'],e['y'], alpha=0.6)\n",
    "    x = np.array(e['x']).mean()\n",
    "    y = np.array(e['y']).mean()\n",
    "    plt.text(x,y,i, ha='center', va='center')\n",
    "    for x, y, n in zip(e['x'],e['y'],e['n']):\n",
    "         plt.text(x,y,\"{}\".format(n), va='center', ha='center', bbox= dict(boxstyle='round', facecolor='yellow'))\n",
    "plt.axis('equal')\n",
    "plt.tight_layout()\n",
    "plt.show()"
   ]
  },
  {
   "cell_type": "markdown",
   "id": "4b00174a-a90f-4ca8-ad3a-9441baf5e507",
   "metadata": {
    "slideshow": {
     "slide_type": "slide"
    },
    "tags": []
   },
   "source": [
    "Con un ciclo for, podemos ir actualizando y los diccionarios. Por ejemplo, para \n",
    "la matriz $\\mathbf{K}$ , hacemos:\n",
    "\n",
    "$$\\mathbf{K} = \\left[ k_{ij} \\right] = \\left[ \\int\\limits_{\\Omega} K \\left( \\dfrac {\\partial N_i} {\\partial x} \\dfrac {\\partial N_j} {\\partial x} + \\dfrac {\\partial N_i} {\\partial y} \\dfrac {\\partial N_j} {\\partial y}\\right) d\\Omega \\right]$$"
   ]
  },
  {
   "cell_type": "markdown",
   "id": "68e10bf3-afad-4cce-a748-e451e10f4fe3",
   "metadata": {
    "slideshow": {
     "slide_type": "slide"
    },
    "tags": []
   },
   "source": [
    "No entraré en detalle, pero de esta integración se obtiene:\n",
    "\n",
    "$$\\mathbf{K}^{(e)}= \\dfrac {K} {4 A^{(e)}} \\begin{bmatrix} b_1b_1+c_1c_1 & b_1b_2+c_1c_2 & b_1b_3+c_1c_3 \\\\ b_2b_1+c_2c_1 & b_2b_2+c_2c_2 & b_2b_3+c_2c_3 \\\\ b_3b_1+c_3c_1 & b_3b_2+c_3c_2 & b_3b_3+c_3c_3 \\end{bmatrix}$$"
   ]
  },
  {
   "cell_type": "markdown",
   "id": "607bb5fe-ffba-481a-a332-b5721736560f",
   "metadata": {
    "slideshow": {
     "slide_type": "slide"
    },
    "tags": []
   },
   "source": [
    "Donde:\n",
    "\n",
    "|$i$|$b_i$|$c_i$|\n",
    "|:---:|:-----:|:-----:|\n",
    "|$1$|$y_2-y_3$|$x_3-x_2$|\n",
    "|$2$|$y_3-y_1$|$x_1-x_3$|\n",
    "|$3$|$y_1-y_2$|$x_2-x_1$|"
   ]
  },
  {
   "cell_type": "code",
   "execution_count": 31,
   "id": "24154720-ed88-44a3-9910-09a4455b8b0c",
   "metadata": {
    "slideshow": {
     "slide_type": "slide"
    },
    "tags": []
   },
   "outputs": [
    {
     "data": {
      "text/plain": [
       "{'x': array([0. , 0. , 1.5]),\n",
       " 'y': array([0. , 1.5, 0. ]),\n",
       " 'n': [0, 3, 1],\n",
       " 'A': 1.125,\n",
       " 'b1': 1.5,\n",
       " 'c1': 1.5,\n",
       " 'b2': 0.0,\n",
       " 'c2': -1.5,\n",
       " 'b3': -1.5,\n",
       " 'c3': 0.0}"
      ]
     },
     "execution_count": 31,
     "metadata": {},
     "output_type": "execute_result"
    }
   ],
   "source": [
    "A = (L/2)**2/2 # m^2 , todos los elementos son iguales \n",
    "\n",
    "for e in elementos:\n",
    "    e.update(A=A)\n",
    "    e.update(b1=e['y'][1]-e['y'][2])\n",
    "    e.update(c1=e['x'][2]-e['x'][1])\n",
    "    e.update(b2=e['y'][2]-e['y'][0])\n",
    "    e.update(c2=e['x'][0]-e['x'][2])\n",
    "    e.update(b3=e['y'][0]-e['y'][1])\n",
    "    e.update(c3=e['x'][1]-e['x'][0])\n",
    "    \n",
    "elementos[0]"
   ]
  },
  {
   "cell_type": "code",
   "execution_count": 32,
   "id": "1ac8b7fa-fa3a-41a1-9cb1-dcf3f34b2500",
   "metadata": {
    "slideshow": {
     "slide_type": "slide"
    },
    "tags": []
   },
   "outputs": [
    {
     "data": {
      "text/latex": [
       "$\\displaystyle \\left[\\begin{matrix}25.0 & 0.0 & -25.0\\\\0.0 & 25.0 & -25.0\\\\-25.0 & -25.0 & 50.0\\end{matrix}\\right]$"
      ],
      "text/plain": [
       "Matrix([\n",
       "[ 25.0,   0.0, -25.0],\n",
       "[  0.0,  25.0, -25.0],\n",
       "[-25.0, -25.0,  50.0]])"
      ]
     },
     "metadata": {},
     "output_type": "display_data"
    }
   ],
   "source": [
    "for e in elementos:\n",
    "    K_e = np.zeros((3,3))\n",
    "    for i in range(0,3):\n",
    "        for j in range(0,3):\n",
    "            K_e[i,j] = e['b{}'.format(i+1)]*e['b{}'.format(j+1)]+e['c{}'.format(i+1)]*e['c{}'.format(j+1)]\n",
    "    K_e = k / 4 / e['A'] * K_e\n",
    "    e.update({'K':K_e})\n",
    "\n",
    "pp(sp.Matrix(K_e)) "
   ]
  },
  {
   "cell_type": "markdown",
   "id": "0502677f-8f41-4995-a832-12a39cde8411",
   "metadata": {
    "slideshow": {
     "slide_type": "slide"
    },
    "tags": []
   },
   "source": [
    "El término de generación $\\mathbf{Q}$ se integra al diccionario usando:"
   ]
  },
  {
   "cell_type": "code",
   "execution_count": 33,
   "id": "07fc605a-9285-4b1d-ad0e-744616ee10e5",
   "metadata": {
    "slideshow": {
     "slide_type": "fragment"
    },
    "tags": []
   },
   "outputs": [
    {
     "data": {
      "text/latex": [
       "$\\displaystyle \\left[\\begin{matrix}15.0\\\\15.0\\\\15.0\\end{matrix}\\right]$"
      ],
      "text/plain": [
       "Matrix([\n",
       "[15.0],\n",
       "[15.0],\n",
       "[15.0]])"
      ]
     },
     "metadata": {},
     "output_type": "display_data"
    }
   ],
   "source": [
    "for e in elementos:\n",
    "    F_e = Q*e['A']/3 * np.array([1,1,1])\n",
    "    e.update({'F':F_e})\n",
    "\n",
    "pp(sp.Matrix(F_e))"
   ]
  },
  {
   "cell_type": "markdown",
   "id": "88d43571-111f-4385-8797-33e2d4c9f017",
   "metadata": {
    "slideshow": {
     "slide_type": "slide"
    },
    "tags": []
   },
   "source": [
    "Y, el flujo conocido se integra con el siguiente vector:"
   ]
  },
  {
   "cell_type": "code",
   "execution_count": 34,
   "id": "b0794fa3-8d74-4950-97ca-814b612177dc",
   "metadata": {
    "slideshow": {
     "slide_type": "fragment"
    },
    "tags": []
   },
   "outputs": [
    {
     "data": {
      "text/latex": [
       "$\\displaystyle \\left[\\begin{matrix}18.75\\\\18.75\\\\0.0\\end{matrix}\\right]$"
      ],
      "text/plain": [
       "Matrix([\n",
       "[18.75],\n",
       "[18.75],\n",
       "[  0.0]])"
      ]
     },
     "metadata": {},
     "output_type": "display_data"
    }
   ],
   "source": [
    "F1 = q * (L / 2) / 2 * np.array([1,1,0])\n",
    "\n",
    "for i, e in enumerate(elementos):\n",
    "    if i in (0,4):\n",
    "        e['F'] = e['F'] + F1\n",
    "\n",
    "pp(sp.Matrix(F1))"
   ]
  },
  {
   "cell_type": "markdown",
   "id": "6741f4da-3f58-46e0-99a0-23c89b492c41",
   "metadata": {
    "slideshow": {
     "slide_type": "slide"
    },
    "tags": []
   },
   "source": [
    "El ensambe de matrices se puede hacer con un doble ciclo for (columnas y renglones de la matriz de cada elemento):"
   ]
  },
  {
   "cell_type": "code",
   "execution_count": 35,
   "id": "c8b29c68-f578-44b4-8ed0-ec50510a0ff8",
   "metadata": {
    "slideshow": {
     "slide_type": "fragment"
    },
    "tags": []
   },
   "outputs": [
    {
     "data": {
      "text/latex": [
       "$\\displaystyle \\left[\\begin{matrix}50.0 & -25.0 & 0.0 & -25.0 & 0.0 & 0.0 & 0.0 & 0.0 & 0.0\\\\-25.0 & 100.0 & -25.0 & 0.0 & -50.0 & 0.0 & 0.0 & 0.0 & 0.0\\\\0.0 & -25.0 & 50.0 & 0.0 & 0.0 & -25.0 & 0.0 & 0.0 & 0.0\\\\-25.0 & 0.0 & 0.0 & 100.0 & -50.0 & 0.0 & -25.0 & 0.0 & 0.0\\\\0.0 & -50.0 & 0.0 & -50.0 & 200.0 & -50.0 & 0.0 & -50.0 & 0.0\\\\0.0 & 0.0 & -25.0 & 0.0 & -50.0 & 100.0 & 0.0 & 0.0 & -25.0\\\\0.0 & 0.0 & 0.0 & -25.0 & 0.0 & 0.0 & 50.0 & -25.0 & 0.0\\\\0.0 & 0.0 & 0.0 & 0.0 & -50.0 & 0.0 & -25.0 & 100.0 & -25.0\\\\0.0 & 0.0 & 0.0 & 0.0 & 0.0 & -25.0 & 0.0 & -25.0 & 50.0\\end{matrix}\\right]$"
      ],
      "text/plain": [
       "Matrix([\n",
       "[ 50.0, -25.0,   0.0, -25.0,   0.0,   0.0,   0.0,   0.0,   0.0],\n",
       "[-25.0, 100.0, -25.0,   0.0, -50.0,   0.0,   0.0,   0.0,   0.0],\n",
       "[  0.0, -25.0,  50.0,   0.0,   0.0, -25.0,   0.0,   0.0,   0.0],\n",
       "[-25.0,   0.0,   0.0, 100.0, -50.0,   0.0, -25.0,   0.0,   0.0],\n",
       "[  0.0, -50.0,   0.0, -50.0, 200.0, -50.0,   0.0, -50.0,   0.0],\n",
       "[  0.0,   0.0, -25.0,   0.0, -50.0, 100.0,   0.0,   0.0, -25.0],\n",
       "[  0.0,   0.0,   0.0, -25.0,   0.0,   0.0,  50.0, -25.0,   0.0],\n",
       "[  0.0,   0.0,   0.0,   0.0, -50.0,   0.0, -25.0, 100.0, -25.0],\n",
       "[  0.0,   0.0,   0.0,   0.0,   0.0, -25.0,   0.0, -25.0,  50.0]])"
      ]
     },
     "metadata": {},
     "output_type": "display_data"
    }
   ],
   "source": [
    "n = 8 # Número de nodos\n",
    "K = np.zeros((n+1,n+1))\n",
    "F = np.zeros((n+1))\n",
    "\n",
    "for e in elementos:\n",
    "    for i, j in enumerate(e['n']):\n",
    "        for k, m in enumerate(e['n']):\n",
    "            K[j,m] = K[j,m] + e['K'][i,k]\n",
    "        F[j] = F[j] + e['F'][i]\n",
    "\n",
    "pp(sp.Matrix(K))"
   ]
  },
  {
   "cell_type": "markdown",
   "id": "686ae017-3055-40f2-8d1b-0a90cde22848",
   "metadata": {
    "slideshow": {
     "slide_type": "slide"
    },
    "tags": []
   },
   "source": [
    "El vector fuerza, ensamblado en la misma operación:"
   ]
  },
  {
   "cell_type": "code",
   "execution_count": 36,
   "id": "29319cc1-c548-48d0-ab19-2c7a761bb37f",
   "metadata": {
    "slideshow": {
     "slide_type": "fragment"
    },
    "tags": []
   },
   "outputs": [
    {
     "data": {
      "text/latex": [
       "$\\displaystyle \\left[\\begin{matrix}33.75\\\\45.0\\\\30.0\\\\97.5\\\\90.0\\\\30.0\\\\33.75\\\\45.0\\\\30.0\\end{matrix}\\right]$"
      ],
      "text/plain": [
       "Matrix([\n",
       "[33.75],\n",
       "[ 45.0],\n",
       "[ 30.0],\n",
       "[ 97.5],\n",
       "[ 90.0],\n",
       "[ 30.0],\n",
       "[33.75],\n",
       "[ 45.0],\n",
       "[ 30.0]])"
      ]
     },
     "metadata": {},
     "output_type": "display_data"
    }
   ],
   "source": [
    "pp(sp.Matrix(F))"
   ]
  },
  {
   "cell_type": "markdown",
   "id": "845cfcb6-f22b-40ab-9dc7-50b874df556b",
   "metadata": {
    "slideshow": {
     "slide_type": "slide"
    },
    "tags": []
   },
   "source": [
    "Para implementar algo equivalente al $T_3 = T_L$ del desarrollo anterior\n",
    "se puede substituir toda una linea por $0$, dejando solamente un $1$ en\n",
    "la diagonal principal. Para automatizar esto generamos el vector:"
   ]
  },
  {
   "cell_type": "code",
   "execution_count": 37,
   "id": "9b4fb57c-44c4-4055-a816-d91237746f81",
   "metadata": {
    "slideshow": {
     "slide_type": "fragment"
    },
    "tags": []
   },
   "outputs": [
    {
     "data": {
      "text/latex": [
       "$\\displaystyle \\left[\\begin{matrix}\\text{NaN}\\\\\\text{NaN}\\\\300.0\\\\\\text{NaN}\\\\\\text{NaN}\\\\300.0\\\\\\text{NaN}\\\\\\text{NaN}\\\\300.0\\end{matrix}\\right]$"
      ],
      "text/plain": [
       "Matrix([\n",
       "[  nan],\n",
       "[  nan],\n",
       "[300.0],\n",
       "[  nan],\n",
       "[  nan],\n",
       "[300.0],\n",
       "[  nan],\n",
       "[  nan],\n",
       "[300.0]])"
      ]
     },
     "metadata": {},
     "output_type": "display_data"
    }
   ],
   "source": [
    "Tf = np.array([np.nan,np.nan,TL,np.nan,np.nan,TL,np.nan,np.nan,TL])\n",
    "\n",
    "pp(sp.Matrix(Tf))"
   ]
  },
  {
   "cell_type": "code",
   "execution_count": 38,
   "id": "c6e8c122-9731-4a98-b59d-788a0b57f145",
   "metadata": {
    "slideshow": {
     "slide_type": "slide"
    },
    "tags": []
   },
   "outputs": [
    {
     "data": {
      "text/latex": [
       "$\\displaystyle \\left[\\begin{matrix}50.0 & -25.0 & 0.0 & -25.0 & 0.0 & 0.0 & 0.0 & 0.0 & 0.0\\\\-25.0 & 100.0 & -25.0 & 0.0 & -50.0 & 0.0 & 0.0 & 0.0 & 0.0\\\\0.0 & 0.0 & 1.0 & 0.0 & 0.0 & 0.0 & 0.0 & 0.0 & 0.0\\\\-25.0 & 0.0 & 0.0 & 100.0 & -50.0 & 0.0 & -25.0 & 0.0 & 0.0\\\\0.0 & -50.0 & 0.0 & -50.0 & 200.0 & -50.0 & 0.0 & -50.0 & 0.0\\\\0.0 & 0.0 & 0.0 & 0.0 & 0.0 & 1.0 & 0.0 & 0.0 & 0.0\\\\0.0 & 0.0 & 0.0 & -25.0 & 0.0 & 0.0 & 50.0 & -25.0 & 0.0\\\\0.0 & 0.0 & 0.0 & 0.0 & -50.0 & 0.0 & -25.0 & 100.0 & -25.0\\\\0.0 & 0.0 & 0.0 & 0.0 & 0.0 & 0.0 & 0.0 & 0.0 & 1.0\\end{matrix}\\right]$"
      ],
      "text/plain": [
       "Matrix([\n",
       "[ 50.0, -25.0,   0.0, -25.0,   0.0,   0.0,   0.0,   0.0,   0.0],\n",
       "[-25.0, 100.0, -25.0,   0.0, -50.0,   0.0,   0.0,   0.0,   0.0],\n",
       "[  0.0,   0.0,   1.0,   0.0,   0.0,   0.0,   0.0,   0.0,   0.0],\n",
       "[-25.0,   0.0,   0.0, 100.0, -50.0,   0.0, -25.0,   0.0,   0.0],\n",
       "[  0.0, -50.0,   0.0, -50.0, 200.0, -50.0,   0.0, -50.0,   0.0],\n",
       "[  0.0,   0.0,   0.0,   0.0,   0.0,   1.0,   0.0,   0.0,   0.0],\n",
       "[  0.0,   0.0,   0.0, -25.0,   0.0,   0.0,  50.0, -25.0,   0.0],\n",
       "[  0.0,   0.0,   0.0,   0.0, -50.0,   0.0, -25.0, 100.0, -25.0],\n",
       "[  0.0,   0.0,   0.0,   0.0,   0.0,   0.0,   0.0,   0.0,   1.0]])"
      ]
     },
     "metadata": {},
     "output_type": "display_data"
    }
   ],
   "source": [
    "for i, t in enumerate(Tf):\n",
    "    if not np.isnan(t):\n",
    "        for j in range(n+1):\n",
    "            K[i,j] = 0\n",
    "            if i == j:\n",
    "                K[i,j] = 1\n",
    "            F[i] = t\n",
    "            \n",
    "pp(sp.Matrix(K))"
   ]
  },
  {
   "cell_type": "markdown",
   "id": "748b4e84-694a-4683-8d68-2c6d3105de87",
   "metadata": {
    "slideshow": {
     "slide_type": "slide"
    },
    "tags": []
   },
   "source": [
    "El vector fuerza modificado:"
   ]
  },
  {
   "cell_type": "code",
   "execution_count": 39,
   "id": "887fddb3-873f-44b3-addc-5541befc1f63",
   "metadata": {
    "slideshow": {
     "slide_type": "fragment"
    },
    "tags": []
   },
   "outputs": [
    {
     "data": {
      "text/latex": [
       "$\\displaystyle \\left[\\begin{matrix}33.75\\\\45.0\\\\300.0\\\\97.5\\\\90.0\\\\300.0\\\\33.75\\\\45.0\\\\300.0\\end{matrix}\\right]$"
      ],
      "text/plain": [
       "Matrix([\n",
       "[33.75],\n",
       "[ 45.0],\n",
       "[300.0],\n",
       "[ 97.5],\n",
       "[ 90.0],\n",
       "[300.0],\n",
       "[33.75],\n",
       "[ 45.0],\n",
       "[300.0]])"
      ]
     },
     "metadata": {},
     "output_type": "display_data"
    }
   ],
   "source": [
    "pp(sp.Matrix(F))"
   ]
  },
  {
   "cell_type": "markdown",
   "id": "934368b2-a605-45b2-b212-83a320ccfd71",
   "metadata": {
    "slideshow": {
     "slide_type": "slide"
    },
    "tags": []
   },
   "source": [
    "Finalmente utilizamos `np.linalg.solve()` para obtener el vector T:"
   ]
  },
  {
   "cell_type": "code",
   "execution_count": 40,
   "id": "17adc60d-047c-4573-b798-fbe25f07aa61",
   "metadata": {
    "slideshow": {
     "slide_type": "fragment"
    },
    "tags": []
   },
   "outputs": [
    {
     "data": {
      "text/latex": [
       "$\\displaystyle \\left[\\begin{matrix}304.994117647059\\\\303.432352941177\\\\300.000000000001\\\\305.205882352942\\\\303.467647058824\\\\300.0\\\\304.994117647059\\\\303.432352941177\\\\300.0\\end{matrix}\\right]$"
      ],
      "text/plain": [
       "Matrix([\n",
       "[304.994117647059],\n",
       "[303.432352941177],\n",
       "[300.000000000001],\n",
       "[305.205882352942],\n",
       "[303.467647058824],\n",
       "[           300.0],\n",
       "[304.994117647059],\n",
       "[303.432352941177],\n",
       "[           300.0]])"
      ]
     },
     "metadata": {},
     "output_type": "display_data"
    }
   ],
   "source": [
    "T = np.linalg.solve(K,F)\n",
    "\n",
    "pp(sp.Matrix(T))"
   ]
  },
  {
   "cell_type": "code",
   "execution_count": 41,
   "id": "f178a4df-63c2-4438-b34f-5494ec10de79",
   "metadata": {
    "slideshow": {
     "slide_type": "slide"
    },
    "tags": []
   },
   "outputs": [
    {
     "data": {
      "image/png": "[encoded data removed]",
      "text/plain": [
       "<Figure size 720x432 with 1 Axes>"
      ]
     },
     "metadata": {},
     "output_type": "display_data"
    }
   ],
   "source": [
    "# Solución analítica\n",
    "x = np.linspace(0,3,50)\n",
    "T_analitica = 300 + 4*(3**2 - x**2)/(2*5) + (3 - x)/2\n",
    "\n",
    "xx = np.array([0.0,L/2,L])\n",
    "\n",
    "plt.figure(figsize=(10,6))\n",
    "plt.plot(x,T_analitica,label='Solución\\nAnalítica')\n",
    "plt.plot(xx,T[0:3],'--o', label='MEF y=0.0')\n",
    "plt.plot(xx,T[3:6],'--o', label='MEF y=1.5')\n",
    "plt.plot(xx,T[6:],'--o', label='MEF y=3.0')\n",
    "plt.xlabel('Posición $x (m)$')\n",
    "plt.ylabel('Temperatura $T (K)$')\n",
    "plt.legend()\n",
    "plt.show()"
   ]
  },
  {
   "cell_type": "markdown",
   "id": "e8af16d4-1c2b-4d4f-8510-99e8e2364fe5",
   "metadata": {
    "slideshow": {
     "slide_type": "slide"
    },
    "tags": []
   },
   "source": [
    "## Conclusiones:"
   ]
  },
  {
   "cell_type": "markdown",
   "id": "97b60da5-ba7c-4a07-9f11-265e4e9c7616",
   "metadata": {
    "slideshow": {
     "slide_type": "slide"
    },
    "tags": []
   },
   "source": [
    "Sobre __SymPy__:\n",
    "\n",
    "* Todos los símbolos deben ser declarados, habiendo una diferencia entre los símbolos y las variables que los contienen.\n",
    "* Las operaciones matriciales, derivadas e integrales definidas se pueden hacer de forma fácil.\n",
    "* Las funciones se pueden graficar de una manera sencilla.\n",
    "* Es posible resolver sistemas de ecuaciones con relativa facilidad hasta cierto número de variables.\n",
    "* Al substituir valores numéricos estas se pueden convertir automáticamente a __arrays__ de NumPy."
   ]
  },
  {
   "cell_type": "markdown",
   "id": "b6297ca2-5653-41e2-b79d-07991ca17277",
   "metadata": {
    "slideshow": {
     "slide_type": "slide"
    },
    "tags": []
   },
   "source": [
    "Sobre __NumPy__:\n",
    "\n",
    "* Cuando no hay experiencia con el uso de __objetos__ los diccionarios pueden ser utilizados para organizar los elementos y trabajar con ellos de una manera automatizada.\n",
    "* La función `sp.Matrix()` puede ser utilizada para una representación más amable de los NumPy array.\n",
    "* Una vez implementado fácilmente se puede automatizar y escalar (a un gran número de elementos)."
   ]
  },
  {
   "cell_type": "markdown",
   "id": "d7c21c5a-f28f-48cb-8c07-75c7a5def5cf",
   "metadata": {
    "slideshow": {
     "slide_type": "slide"
    },
    "tags": []
   },
   "source": [
    "![162 elementos](Imagenes/162Elementos.png)"
   ]
  }
 ],
 "metadata": {
  "kernelspec": {
   "display_name": "Python 3",
   "language": "python",
   "name": "python3"
  },
  "language_info": {
   "codemirror_mode": {
    "name": "ipython",
    "version": 3
   },
   "file_extension": ".py",
   "mimetype": "text/x-python",
   "name": "python",
   "nbconvert_exporter": "python",
   "pygments_lexer": "ipython3",
   "version": "3.7.10"
  }
 },
 "nbformat": 4,
 "nbformat_minor": 5
}
